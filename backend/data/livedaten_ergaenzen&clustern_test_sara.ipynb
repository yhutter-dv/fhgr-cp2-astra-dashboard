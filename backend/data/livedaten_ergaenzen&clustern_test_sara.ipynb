{
 "cells": [
  {
   "cell_type": "markdown",
   "source": [
    "# Live Daten einlesen"
   ],
   "metadata": {
    "collapsed": false
   }
  },
  {
   "cell_type": "code",
   "execution_count": 89,
   "outputs": [
    {
     "data": {
      "text/plain": "              id                         time        value  hasError  \\\n0     CH:0542.05  2023-12-02T12:37:00.000000Z     0.000000      True   \n1     CH:0026.03  2023-12-02T12:37:00.000000Z  1320.000000     False   \n2     CH:0026.03  2023-12-02T12:37:00.000000Z    96.699997     False   \n3     CH:0026.03  2023-12-02T12:37:00.000000Z     0.000000     False   \n4     CH:0026.03  2023-12-02T12:37:00.000000Z     0.000000     False   \n...          ...                          ...          ...       ...   \n6342  CH:0505.03  2023-12-02T12:37:00.000000Z     0.000000     False   \n6343  CH:0505.02  2023-12-02T12:37:00.000000Z   900.000000     False   \n6344  CH:0505.02  2023-12-02T12:37:00.000000Z   115.300003     False   \n6345  CH:0505.02  2023-12-02T12:37:00.000000Z     0.000000     False   \n6346  CH:0505.02  2023-12-02T12:37:00.000000Z     0.000000     False   \n\n     errorReason  index          kind  numberOfInputValuesUsed  \n0     VD_OFFLINE      0                                    NaN  \n1                    11   trafficFlow                      NaN  \n2                    12  trafficSpeed                     22.0  \n3                    21   trafficFlow                     22.0  \n4                     1   trafficFlow                     22.0  \n...          ...    ...           ...                      ...  \n6342                  1   trafficFlow                     22.0  \n6343                 11   trafficFlow                      NaN  \n6344                 12  trafficSpeed                     15.0  \n6345                 21   trafficFlow                     15.0  \n6346                  1   trafficFlow                     15.0  \n\n[6347 rows x 8 columns]",
      "text/html": "<div>\n<style scoped>\n    .dataframe tbody tr th:only-of-type {\n        vertical-align: middle;\n    }\n\n    .dataframe tbody tr th {\n        vertical-align: top;\n    }\n\n    .dataframe thead th {\n        text-align: right;\n    }\n</style>\n<table border=\"1\" class=\"dataframe\">\n  <thead>\n    <tr style=\"text-align: right;\">\n      <th></th>\n      <th>id</th>\n      <th>time</th>\n      <th>value</th>\n      <th>hasError</th>\n      <th>errorReason</th>\n      <th>index</th>\n      <th>kind</th>\n      <th>numberOfInputValuesUsed</th>\n    </tr>\n  </thead>\n  <tbody>\n    <tr>\n      <th>0</th>\n      <td>CH:0542.05</td>\n      <td>2023-12-02T12:37:00.000000Z</td>\n      <td>0.000000</td>\n      <td>True</td>\n      <td>VD_OFFLINE</td>\n      <td>0</td>\n      <td></td>\n      <td>NaN</td>\n    </tr>\n    <tr>\n      <th>1</th>\n      <td>CH:0026.03</td>\n      <td>2023-12-02T12:37:00.000000Z</td>\n      <td>1320.000000</td>\n      <td>False</td>\n      <td></td>\n      <td>11</td>\n      <td>trafficFlow</td>\n      <td>NaN</td>\n    </tr>\n    <tr>\n      <th>2</th>\n      <td>CH:0026.03</td>\n      <td>2023-12-02T12:37:00.000000Z</td>\n      <td>96.699997</td>\n      <td>False</td>\n      <td></td>\n      <td>12</td>\n      <td>trafficSpeed</td>\n      <td>22.0</td>\n    </tr>\n    <tr>\n      <th>3</th>\n      <td>CH:0026.03</td>\n      <td>2023-12-02T12:37:00.000000Z</td>\n      <td>0.000000</td>\n      <td>False</td>\n      <td></td>\n      <td>21</td>\n      <td>trafficFlow</td>\n      <td>22.0</td>\n    </tr>\n    <tr>\n      <th>4</th>\n      <td>CH:0026.03</td>\n      <td>2023-12-02T12:37:00.000000Z</td>\n      <td>0.000000</td>\n      <td>False</td>\n      <td></td>\n      <td>1</td>\n      <td>trafficFlow</td>\n      <td>22.0</td>\n    </tr>\n    <tr>\n      <th>...</th>\n      <td>...</td>\n      <td>...</td>\n      <td>...</td>\n      <td>...</td>\n      <td>...</td>\n      <td>...</td>\n      <td>...</td>\n      <td>...</td>\n    </tr>\n    <tr>\n      <th>6342</th>\n      <td>CH:0505.03</td>\n      <td>2023-12-02T12:37:00.000000Z</td>\n      <td>0.000000</td>\n      <td>False</td>\n      <td></td>\n      <td>1</td>\n      <td>trafficFlow</td>\n      <td>22.0</td>\n    </tr>\n    <tr>\n      <th>6343</th>\n      <td>CH:0505.02</td>\n      <td>2023-12-02T12:37:00.000000Z</td>\n      <td>900.000000</td>\n      <td>False</td>\n      <td></td>\n      <td>11</td>\n      <td>trafficFlow</td>\n      <td>NaN</td>\n    </tr>\n    <tr>\n      <th>6344</th>\n      <td>CH:0505.02</td>\n      <td>2023-12-02T12:37:00.000000Z</td>\n      <td>115.300003</td>\n      <td>False</td>\n      <td></td>\n      <td>12</td>\n      <td>trafficSpeed</td>\n      <td>15.0</td>\n    </tr>\n    <tr>\n      <th>6345</th>\n      <td>CH:0505.02</td>\n      <td>2023-12-02T12:37:00.000000Z</td>\n      <td>0.000000</td>\n      <td>False</td>\n      <td></td>\n      <td>21</td>\n      <td>trafficFlow</td>\n      <td>15.0</td>\n    </tr>\n    <tr>\n      <th>6346</th>\n      <td>CH:0505.02</td>\n      <td>2023-12-02T12:37:00.000000Z</td>\n      <td>0.000000</td>\n      <td>False</td>\n      <td></td>\n      <td>1</td>\n      <td>trafficFlow</td>\n      <td>15.0</td>\n    </tr>\n  </tbody>\n</table>\n<p>6347 rows × 8 columns</p>\n</div>"
     },
     "execution_count": 89,
     "metadata": {},
     "output_type": "execute_result"
    }
   ],
   "source": [
    "import pandas as pd\n",
    "import json\n",
    "\n",
    "json_file_path = \"./data/msr.json\"\n",
    "\n",
    "# read JSON\n",
    "with open(json_file_path, 'r') as file:\n",
    "    data = json.load(file)\n",
    "\n",
    "# create an empty list\n",
    "df_list = []\n",
    "\n",
    "# get out all sensorMeasurements data and adds it to the rest of the detector measurements\n",
    "for entry in data['detector_measurements']:\n",
    "    measurements_data = entry['sensorMeasurements']\n",
    "    entry.pop('sensorMeasurements')  # delete 'sensorMeasurements'(we only need each measurement)\n",
    "    for measurement in measurements_data:\n",
    "        entry.update(measurement)  # add details of sensorMeasurements entry\n",
    "        df_list.append(entry.copy())  # append copy of entry to list\n",
    "\n",
    "# create DataFrame\n",
    "df = pd.DataFrame(df_list)\n",
    "\n",
    "# show DataFrame\n",
    "df"
   ],
   "metadata": {
    "collapsed": false
   }
  },
  {
   "cell_type": "code",
   "execution_count": 90,
   "outputs": [
    {
     "data": {
      "text/plain": "              id                      time        value  hasError errorReason  \\\n0     CH:0542.05 2023-12-02 12:37:00+00:00     0.000000      True  VD_OFFLINE   \n1     CH:0026.03 2023-12-02 12:37:00+00:00  1320.000000     False               \n2     CH:0026.03 2023-12-02 12:37:00+00:00    96.699997     False               \n3     CH:0026.03 2023-12-02 12:37:00+00:00     0.000000     False               \n4     CH:0026.03 2023-12-02 12:37:00+00:00     0.000000     False               \n...          ...                       ...          ...       ...         ...   \n6342  CH:0505.03 2023-12-02 12:37:00+00:00     0.000000     False               \n6343  CH:0505.02 2023-12-02 12:37:00+00:00   900.000000     False               \n6344  CH:0505.02 2023-12-02 12:37:00+00:00   115.300003     False               \n6345  CH:0505.02 2023-12-02 12:37:00+00:00     0.000000     False               \n6346  CH:0505.02 2023-12-02 12:37:00+00:00     0.000000     False               \n\n      index          kind  numberOfInputValuesUsed  \n0         0                                    NaN  \n1        11   trafficFlow                      NaN  \n2        12  trafficSpeed                     22.0  \n3        21   trafficFlow                     22.0  \n4         1   trafficFlow                     22.0  \n...     ...           ...                      ...  \n6342      1   trafficFlow                     22.0  \n6343     11   trafficFlow                      NaN  \n6344     12  trafficSpeed                     15.0  \n6345     21   trafficFlow                     15.0  \n6346      1   trafficFlow                     15.0  \n\n[6347 rows x 8 columns]",
      "text/html": "<div>\n<style scoped>\n    .dataframe tbody tr th:only-of-type {\n        vertical-align: middle;\n    }\n\n    .dataframe tbody tr th {\n        vertical-align: top;\n    }\n\n    .dataframe thead th {\n        text-align: right;\n    }\n</style>\n<table border=\"1\" class=\"dataframe\">\n  <thead>\n    <tr style=\"text-align: right;\">\n      <th></th>\n      <th>id</th>\n      <th>time</th>\n      <th>value</th>\n      <th>hasError</th>\n      <th>errorReason</th>\n      <th>index</th>\n      <th>kind</th>\n      <th>numberOfInputValuesUsed</th>\n    </tr>\n  </thead>\n  <tbody>\n    <tr>\n      <th>0</th>\n      <td>CH:0542.05</td>\n      <td>2023-12-02 12:37:00+00:00</td>\n      <td>0.000000</td>\n      <td>True</td>\n      <td>VD_OFFLINE</td>\n      <td>0</td>\n      <td></td>\n      <td>NaN</td>\n    </tr>\n    <tr>\n      <th>1</th>\n      <td>CH:0026.03</td>\n      <td>2023-12-02 12:37:00+00:00</td>\n      <td>1320.000000</td>\n      <td>False</td>\n      <td></td>\n      <td>11</td>\n      <td>trafficFlow</td>\n      <td>NaN</td>\n    </tr>\n    <tr>\n      <th>2</th>\n      <td>CH:0026.03</td>\n      <td>2023-12-02 12:37:00+00:00</td>\n      <td>96.699997</td>\n      <td>False</td>\n      <td></td>\n      <td>12</td>\n      <td>trafficSpeed</td>\n      <td>22.0</td>\n    </tr>\n    <tr>\n      <th>3</th>\n      <td>CH:0026.03</td>\n      <td>2023-12-02 12:37:00+00:00</td>\n      <td>0.000000</td>\n      <td>False</td>\n      <td></td>\n      <td>21</td>\n      <td>trafficFlow</td>\n      <td>22.0</td>\n    </tr>\n    <tr>\n      <th>4</th>\n      <td>CH:0026.03</td>\n      <td>2023-12-02 12:37:00+00:00</td>\n      <td>0.000000</td>\n      <td>False</td>\n      <td></td>\n      <td>1</td>\n      <td>trafficFlow</td>\n      <td>22.0</td>\n    </tr>\n    <tr>\n      <th>...</th>\n      <td>...</td>\n      <td>...</td>\n      <td>...</td>\n      <td>...</td>\n      <td>...</td>\n      <td>...</td>\n      <td>...</td>\n      <td>...</td>\n    </tr>\n    <tr>\n      <th>6342</th>\n      <td>CH:0505.03</td>\n      <td>2023-12-02 12:37:00+00:00</td>\n      <td>0.000000</td>\n      <td>False</td>\n      <td></td>\n      <td>1</td>\n      <td>trafficFlow</td>\n      <td>22.0</td>\n    </tr>\n    <tr>\n      <th>6343</th>\n      <td>CH:0505.02</td>\n      <td>2023-12-02 12:37:00+00:00</td>\n      <td>900.000000</td>\n      <td>False</td>\n      <td></td>\n      <td>11</td>\n      <td>trafficFlow</td>\n      <td>NaN</td>\n    </tr>\n    <tr>\n      <th>6344</th>\n      <td>CH:0505.02</td>\n      <td>2023-12-02 12:37:00+00:00</td>\n      <td>115.300003</td>\n      <td>False</td>\n      <td></td>\n      <td>12</td>\n      <td>trafficSpeed</td>\n      <td>15.0</td>\n    </tr>\n    <tr>\n      <th>6345</th>\n      <td>CH:0505.02</td>\n      <td>2023-12-02 12:37:00+00:00</td>\n      <td>0.000000</td>\n      <td>False</td>\n      <td></td>\n      <td>21</td>\n      <td>trafficFlow</td>\n      <td>15.0</td>\n    </tr>\n    <tr>\n      <th>6346</th>\n      <td>CH:0505.02</td>\n      <td>2023-12-02 12:37:00+00:00</td>\n      <td>0.000000</td>\n      <td>False</td>\n      <td></td>\n      <td>1</td>\n      <td>trafficFlow</td>\n      <td>15.0</td>\n    </tr>\n  </tbody>\n</table>\n<p>6347 rows × 8 columns</p>\n</div>"
     },
     "execution_count": 90,
     "metadata": {},
     "output_type": "execute_result"
    }
   ],
   "source": [
    "# make sure that time is a datetime\n",
    "df['time'] = pd.to_datetime(df['time'])\n",
    "df"
   ],
   "metadata": {
    "collapsed": false
   }
  },
  {
   "cell_type": "code",
   "execution_count": 91,
   "outputs": [],
   "source": [
    "# index mapping to vehicle type\n",
    "\n",
    "#sk: Vehicle Type würde ich nicht in die Live Daten integrieren, sondern eine im Filter hinterlegen: wenn \"Lorry\" ausgewählt ist, dann nimm alle Zeilen mit index 21 und index 22.. etc."
   ],
   "metadata": {
    "collapsed": false
   }
  },
  {
   "cell_type": "code",
   "execution_count": 94,
   "outputs": [
    {
     "data": {
      "text/plain": "              id                      time        value  hasError errorReason  \\\n0     CH:0542.05 2023-12-02 12:37:00+00:00     0.000000      True  VD_OFFLINE   \n1     CH:0026.03 2023-12-02 12:37:00+00:00  1320.000000     False               \n2     CH:0026.03 2023-12-02 12:37:00+00:00    96.699997     False               \n3     CH:0026.03 2023-12-02 12:37:00+00:00     0.000000     False               \n4     CH:0026.03 2023-12-02 12:37:00+00:00     0.000000     False               \n...          ...                       ...          ...       ...         ...   \n6342  CH:0505.03 2023-12-02 12:37:00+00:00     0.000000     False               \n6343  CH:0505.02 2023-12-02 12:37:00+00:00   900.000000     False               \n6344  CH:0505.02 2023-12-02 12:37:00+00:00   115.300003     False               \n6345  CH:0505.02 2023-12-02 12:37:00+00:00     0.000000     False               \n6346  CH:0505.02 2023-12-02 12:37:00+00:00     0.000000     False               \n\n      index          kind  numberOfInputValuesUsed id_measurement_station  \\\n0         0                                    NaN                CH:0542   \n1        11   trafficFlow                      NaN                CH:0026   \n2        12  trafficSpeed                     22.0                CH:0026   \n3        21   trafficFlow                     22.0                CH:0026   \n4         1   trafficFlow                     22.0                CH:0026   \n...     ...           ...                      ...                    ...   \n6342      1   trafficFlow                     22.0                CH:0505   \n6343     11   trafficFlow                      NaN                CH:0505   \n6344     12  trafficSpeed                     15.0                CH:0505   \n6345     21   trafficFlow                     15.0                CH:0505   \n6346      1   trafficFlow                     15.0                CH:0505   \n\n     canton   eastLv95  northLv95  cluster_kmeans  cluster  \n0        AG  2668970.0  1254246.0               0       -1  \n1        LU  2666381.0  1205794.0               2       -1  \n2        LU  2666381.0  1205794.0               2       -1  \n3        LU  2666381.0  1205794.0               2       -1  \n4        LU  2666381.0  1205794.0               2       -1  \n...     ...        ...        ...             ...      ...  \n6342     VD  2507348.0  1141026.0               9       -1  \n6343     VD  2507348.0  1141026.0               9       -1  \n6344     VD  2507348.0  1141026.0               9       -1  \n6345     VD  2507348.0  1141026.0               9       -1  \n6346     VD  2507348.0  1141026.0               9       -1  \n\n[6347 rows x 14 columns]",
      "text/html": "<div>\n<style scoped>\n    .dataframe tbody tr th:only-of-type {\n        vertical-align: middle;\n    }\n\n    .dataframe tbody tr th {\n        vertical-align: top;\n    }\n\n    .dataframe thead th {\n        text-align: right;\n    }\n</style>\n<table border=\"1\" class=\"dataframe\">\n  <thead>\n    <tr style=\"text-align: right;\">\n      <th></th>\n      <th>id</th>\n      <th>time</th>\n      <th>value</th>\n      <th>hasError</th>\n      <th>errorReason</th>\n      <th>index</th>\n      <th>kind</th>\n      <th>numberOfInputValuesUsed</th>\n      <th>id_measurement_station</th>\n      <th>canton</th>\n      <th>eastLv95</th>\n      <th>northLv95</th>\n      <th>cluster_kmeans</th>\n      <th>cluster</th>\n    </tr>\n  </thead>\n  <tbody>\n    <tr>\n      <th>0</th>\n      <td>CH:0542.05</td>\n      <td>2023-12-02 12:37:00+00:00</td>\n      <td>0.000000</td>\n      <td>True</td>\n      <td>VD_OFFLINE</td>\n      <td>0</td>\n      <td></td>\n      <td>NaN</td>\n      <td>CH:0542</td>\n      <td>AG</td>\n      <td>2668970.0</td>\n      <td>1254246.0</td>\n      <td>0</td>\n      <td>-1</td>\n    </tr>\n    <tr>\n      <th>1</th>\n      <td>CH:0026.03</td>\n      <td>2023-12-02 12:37:00+00:00</td>\n      <td>1320.000000</td>\n      <td>False</td>\n      <td></td>\n      <td>11</td>\n      <td>trafficFlow</td>\n      <td>NaN</td>\n      <td>CH:0026</td>\n      <td>LU</td>\n      <td>2666381.0</td>\n      <td>1205794.0</td>\n      <td>2</td>\n      <td>-1</td>\n    </tr>\n    <tr>\n      <th>2</th>\n      <td>CH:0026.03</td>\n      <td>2023-12-02 12:37:00+00:00</td>\n      <td>96.699997</td>\n      <td>False</td>\n      <td></td>\n      <td>12</td>\n      <td>trafficSpeed</td>\n      <td>22.0</td>\n      <td>CH:0026</td>\n      <td>LU</td>\n      <td>2666381.0</td>\n      <td>1205794.0</td>\n      <td>2</td>\n      <td>-1</td>\n    </tr>\n    <tr>\n      <th>3</th>\n      <td>CH:0026.03</td>\n      <td>2023-12-02 12:37:00+00:00</td>\n      <td>0.000000</td>\n      <td>False</td>\n      <td></td>\n      <td>21</td>\n      <td>trafficFlow</td>\n      <td>22.0</td>\n      <td>CH:0026</td>\n      <td>LU</td>\n      <td>2666381.0</td>\n      <td>1205794.0</td>\n      <td>2</td>\n      <td>-1</td>\n    </tr>\n    <tr>\n      <th>4</th>\n      <td>CH:0026.03</td>\n      <td>2023-12-02 12:37:00+00:00</td>\n      <td>0.000000</td>\n      <td>False</td>\n      <td></td>\n      <td>1</td>\n      <td>trafficFlow</td>\n      <td>22.0</td>\n      <td>CH:0026</td>\n      <td>LU</td>\n      <td>2666381.0</td>\n      <td>1205794.0</td>\n      <td>2</td>\n      <td>-1</td>\n    </tr>\n    <tr>\n      <th>...</th>\n      <td>...</td>\n      <td>...</td>\n      <td>...</td>\n      <td>...</td>\n      <td>...</td>\n      <td>...</td>\n      <td>...</td>\n      <td>...</td>\n      <td>...</td>\n      <td>...</td>\n      <td>...</td>\n      <td>...</td>\n      <td>...</td>\n      <td>...</td>\n    </tr>\n    <tr>\n      <th>6342</th>\n      <td>CH:0505.03</td>\n      <td>2023-12-02 12:37:00+00:00</td>\n      <td>0.000000</td>\n      <td>False</td>\n      <td></td>\n      <td>1</td>\n      <td>trafficFlow</td>\n      <td>22.0</td>\n      <td>CH:0505</td>\n      <td>VD</td>\n      <td>2507348.0</td>\n      <td>1141026.0</td>\n      <td>9</td>\n      <td>-1</td>\n    </tr>\n    <tr>\n      <th>6343</th>\n      <td>CH:0505.02</td>\n      <td>2023-12-02 12:37:00+00:00</td>\n      <td>900.000000</td>\n      <td>False</td>\n      <td></td>\n      <td>11</td>\n      <td>trafficFlow</td>\n      <td>NaN</td>\n      <td>CH:0505</td>\n      <td>VD</td>\n      <td>2507348.0</td>\n      <td>1141026.0</td>\n      <td>9</td>\n      <td>-1</td>\n    </tr>\n    <tr>\n      <th>6344</th>\n      <td>CH:0505.02</td>\n      <td>2023-12-02 12:37:00+00:00</td>\n      <td>115.300003</td>\n      <td>False</td>\n      <td></td>\n      <td>12</td>\n      <td>trafficSpeed</td>\n      <td>15.0</td>\n      <td>CH:0505</td>\n      <td>VD</td>\n      <td>2507348.0</td>\n      <td>1141026.0</td>\n      <td>9</td>\n      <td>-1</td>\n    </tr>\n    <tr>\n      <th>6345</th>\n      <td>CH:0505.02</td>\n      <td>2023-12-02 12:37:00+00:00</td>\n      <td>0.000000</td>\n      <td>False</td>\n      <td></td>\n      <td>21</td>\n      <td>trafficFlow</td>\n      <td>15.0</td>\n      <td>CH:0505</td>\n      <td>VD</td>\n      <td>2507348.0</td>\n      <td>1141026.0</td>\n      <td>9</td>\n      <td>-1</td>\n    </tr>\n    <tr>\n      <th>6346</th>\n      <td>CH:0505.02</td>\n      <td>2023-12-02 12:37:00+00:00</td>\n      <td>0.000000</td>\n      <td>False</td>\n      <td></td>\n      <td>1</td>\n      <td>trafficFlow</td>\n      <td>15.0</td>\n      <td>CH:0505</td>\n      <td>VD</td>\n      <td>2507348.0</td>\n      <td>1141026.0</td>\n      <td>9</td>\n      <td>-1</td>\n    </tr>\n  </tbody>\n</table>\n<p>6347 rows × 14 columns</p>\n</div>"
     },
     "execution_count": 94,
     "metadata": {},
     "output_type": "execute_result"
    }
   ],
   "source": [
    "# add canton\n",
    "\n",
    "# get measurement_station id\n",
    "df['id_measurement_station'] = df['id'].str.split('.').str[0]\n",
    "\n",
    "# read mst data\n",
    "json_file_path = \"./data/mst.json\"\n",
    "with open(json_file_path, 'r') as file:\n",
    "    json_data = json.load(file)\n",
    "\n",
    "# Create mapping\n",
    "canton_mapping = {entry['id']: entry['canton'] for entry in json_data}\n",
    "eastLv95_mapping = {entry['id']: entry['eastLv95'] for entry in json_data}\n",
    "northLv95_mapping = {entry['id']: entry['northLv95'] for entry in json_data}\n",
    "\n",
    "# Map 'canton' values to the DataFrame\n",
    "df['canton'] = df['id_measurement_station'].map(canton_mapping)\n",
    "\n",
    "df['eastLv95'] = df['id_measurement_station'].map(eastLv95_mapping)\n",
    "df['eastLv95'] = df['eastLv95'].astype(float)\n",
    "\n",
    "df['northLv95'] = df['id_measurement_station'].map(northLv95_mapping )\n",
    "df['northLv95'] = df['northLv95'].astype(float)\n",
    "\n",
    "# Display the updated DataFrame\n",
    "df"
   ],
   "metadata": {
    "collapsed": false
   }
  },
  {
   "cell_type": "code",
   "execution_count": 95,
   "outputs": [
    {
     "name": "stderr",
     "output_type": "stream",
     "text": [
      "C:\\Users\\sarak\\AppData\\Local\\Programs\\Python\\fhgr-cp2-astra-dashboard\\Lib\\site-packages\\sklearn\\cluster\\_kmeans.py:1416: FutureWarning: The default value of `n_init` will change from 10 to 'auto' in 1.4. Set the value of `n_init` explicitly to suppress the warning\n",
      "  super()._check_params_vs_input(X, default_n_init=10)\n"
     ]
    }
   ],
   "source": [
    "# Clustering region (not cantone)\n",
    "from sklearn.cluster import KMeans\n",
    "from sklearn.cluster import DBSCAN\n",
    "\n",
    "#k-means\n",
    "desired_number_of_clusters = 10\n",
    "kmeans = KMeans(n_clusters=desired_number_of_clusters)\n",
    "df['cluster_kmeans'] = kmeans.fit_predict(df[['eastLv95', 'northLv95']])\n",
    "\n",
    "# DBSCAN (Density-Based Spatial Clustering of Applications with Noise):\n",
    "desired_epsilon = 0.1\n",
    "desired_min_samples = 30\n",
    "dbscan = DBSCAN(eps=desired_epsilon, min_samples=desired_min_samples)\n",
    "df['cluster'] = dbscan.fit_predict(df[['eastLv95', 'northLv95']])"
   ],
   "metadata": {
    "collapsed": false
   }
  },
  {
   "cell_type": "code",
   "execution_count": 96,
   "outputs": [
    {
     "data": {
      "text/plain": "              id                      time        value  hasError errorReason  \\\n0     CH:0542.05 2023-12-02 12:37:00+00:00     0.000000      True  VD_OFFLINE   \n1     CH:0026.03 2023-12-02 12:37:00+00:00  1320.000000     False               \n2     CH:0026.03 2023-12-02 12:37:00+00:00    96.699997     False               \n3     CH:0026.03 2023-12-02 12:37:00+00:00     0.000000     False               \n4     CH:0026.03 2023-12-02 12:37:00+00:00     0.000000     False               \n...          ...                       ...          ...       ...         ...   \n6342  CH:0505.03 2023-12-02 12:37:00+00:00     0.000000     False               \n6343  CH:0505.02 2023-12-02 12:37:00+00:00   900.000000     False               \n6344  CH:0505.02 2023-12-02 12:37:00+00:00   115.300003     False               \n6345  CH:0505.02 2023-12-02 12:37:00+00:00     0.000000     False               \n6346  CH:0505.02 2023-12-02 12:37:00+00:00     0.000000     False               \n\n      index          kind  numberOfInputValuesUsed id_measurement_station  \\\n0         0                                    NaN                CH:0542   \n1        11   trafficFlow                      NaN                CH:0026   \n2        12  trafficSpeed                     22.0                CH:0026   \n3        21   trafficFlow                     22.0                CH:0026   \n4         1   trafficFlow                     22.0                CH:0026   \n...     ...           ...                      ...                    ...   \n6342      1   trafficFlow                     22.0                CH:0505   \n6343     11   trafficFlow                      NaN                CH:0505   \n6344     12  trafficSpeed                     15.0                CH:0505   \n6345     21   trafficFlow                     15.0                CH:0505   \n6346      1   trafficFlow                     15.0                CH:0505   \n\n     canton   eastLv95  northLv95  cluster_kmeans  cluster  \n0        AG  2668970.0  1254246.0               0       -1  \n1        LU  2666381.0  1205794.0               5       -1  \n2        LU  2666381.0  1205794.0               5       -1  \n3        LU  2666381.0  1205794.0               5       -1  \n4        LU  2666381.0  1205794.0               5       -1  \n...     ...        ...        ...             ...      ...  \n6342     VD  2507348.0  1141026.0               1       -1  \n6343     VD  2507348.0  1141026.0               1       -1  \n6344     VD  2507348.0  1141026.0               1       -1  \n6345     VD  2507348.0  1141026.0               1       -1  \n6346     VD  2507348.0  1141026.0               1       -1  \n\n[6347 rows x 14 columns]",
      "text/html": "<div>\n<style scoped>\n    .dataframe tbody tr th:only-of-type {\n        vertical-align: middle;\n    }\n\n    .dataframe tbody tr th {\n        vertical-align: top;\n    }\n\n    .dataframe thead th {\n        text-align: right;\n    }\n</style>\n<table border=\"1\" class=\"dataframe\">\n  <thead>\n    <tr style=\"text-align: right;\">\n      <th></th>\n      <th>id</th>\n      <th>time</th>\n      <th>value</th>\n      <th>hasError</th>\n      <th>errorReason</th>\n      <th>index</th>\n      <th>kind</th>\n      <th>numberOfInputValuesUsed</th>\n      <th>id_measurement_station</th>\n      <th>canton</th>\n      <th>eastLv95</th>\n      <th>northLv95</th>\n      <th>cluster_kmeans</th>\n      <th>cluster</th>\n    </tr>\n  </thead>\n  <tbody>\n    <tr>\n      <th>0</th>\n      <td>CH:0542.05</td>\n      <td>2023-12-02 12:37:00+00:00</td>\n      <td>0.000000</td>\n      <td>True</td>\n      <td>VD_OFFLINE</td>\n      <td>0</td>\n      <td></td>\n      <td>NaN</td>\n      <td>CH:0542</td>\n      <td>AG</td>\n      <td>2668970.0</td>\n      <td>1254246.0</td>\n      <td>0</td>\n      <td>-1</td>\n    </tr>\n    <tr>\n      <th>1</th>\n      <td>CH:0026.03</td>\n      <td>2023-12-02 12:37:00+00:00</td>\n      <td>1320.000000</td>\n      <td>False</td>\n      <td></td>\n      <td>11</td>\n      <td>trafficFlow</td>\n      <td>NaN</td>\n      <td>CH:0026</td>\n      <td>LU</td>\n      <td>2666381.0</td>\n      <td>1205794.0</td>\n      <td>5</td>\n      <td>-1</td>\n    </tr>\n    <tr>\n      <th>2</th>\n      <td>CH:0026.03</td>\n      <td>2023-12-02 12:37:00+00:00</td>\n      <td>96.699997</td>\n      <td>False</td>\n      <td></td>\n      <td>12</td>\n      <td>trafficSpeed</td>\n      <td>22.0</td>\n      <td>CH:0026</td>\n      <td>LU</td>\n      <td>2666381.0</td>\n      <td>1205794.0</td>\n      <td>5</td>\n      <td>-1</td>\n    </tr>\n    <tr>\n      <th>3</th>\n      <td>CH:0026.03</td>\n      <td>2023-12-02 12:37:00+00:00</td>\n      <td>0.000000</td>\n      <td>False</td>\n      <td></td>\n      <td>21</td>\n      <td>trafficFlow</td>\n      <td>22.0</td>\n      <td>CH:0026</td>\n      <td>LU</td>\n      <td>2666381.0</td>\n      <td>1205794.0</td>\n      <td>5</td>\n      <td>-1</td>\n    </tr>\n    <tr>\n      <th>4</th>\n      <td>CH:0026.03</td>\n      <td>2023-12-02 12:37:00+00:00</td>\n      <td>0.000000</td>\n      <td>False</td>\n      <td></td>\n      <td>1</td>\n      <td>trafficFlow</td>\n      <td>22.0</td>\n      <td>CH:0026</td>\n      <td>LU</td>\n      <td>2666381.0</td>\n      <td>1205794.0</td>\n      <td>5</td>\n      <td>-1</td>\n    </tr>\n    <tr>\n      <th>...</th>\n      <td>...</td>\n      <td>...</td>\n      <td>...</td>\n      <td>...</td>\n      <td>...</td>\n      <td>...</td>\n      <td>...</td>\n      <td>...</td>\n      <td>...</td>\n      <td>...</td>\n      <td>...</td>\n      <td>...</td>\n      <td>...</td>\n      <td>...</td>\n    </tr>\n    <tr>\n      <th>6342</th>\n      <td>CH:0505.03</td>\n      <td>2023-12-02 12:37:00+00:00</td>\n      <td>0.000000</td>\n      <td>False</td>\n      <td></td>\n      <td>1</td>\n      <td>trafficFlow</td>\n      <td>22.0</td>\n      <td>CH:0505</td>\n      <td>VD</td>\n      <td>2507348.0</td>\n      <td>1141026.0</td>\n      <td>1</td>\n      <td>-1</td>\n    </tr>\n    <tr>\n      <th>6343</th>\n      <td>CH:0505.02</td>\n      <td>2023-12-02 12:37:00+00:00</td>\n      <td>900.000000</td>\n      <td>False</td>\n      <td></td>\n      <td>11</td>\n      <td>trafficFlow</td>\n      <td>NaN</td>\n      <td>CH:0505</td>\n      <td>VD</td>\n      <td>2507348.0</td>\n      <td>1141026.0</td>\n      <td>1</td>\n      <td>-1</td>\n    </tr>\n    <tr>\n      <th>6344</th>\n      <td>CH:0505.02</td>\n      <td>2023-12-02 12:37:00+00:00</td>\n      <td>115.300003</td>\n      <td>False</td>\n      <td></td>\n      <td>12</td>\n      <td>trafficSpeed</td>\n      <td>15.0</td>\n      <td>CH:0505</td>\n      <td>VD</td>\n      <td>2507348.0</td>\n      <td>1141026.0</td>\n      <td>1</td>\n      <td>-1</td>\n    </tr>\n    <tr>\n      <th>6345</th>\n      <td>CH:0505.02</td>\n      <td>2023-12-02 12:37:00+00:00</td>\n      <td>0.000000</td>\n      <td>False</td>\n      <td></td>\n      <td>21</td>\n      <td>trafficFlow</td>\n      <td>15.0</td>\n      <td>CH:0505</td>\n      <td>VD</td>\n      <td>2507348.0</td>\n      <td>1141026.0</td>\n      <td>1</td>\n      <td>-1</td>\n    </tr>\n    <tr>\n      <th>6346</th>\n      <td>CH:0505.02</td>\n      <td>2023-12-02 12:37:00+00:00</td>\n      <td>0.000000</td>\n      <td>False</td>\n      <td></td>\n      <td>1</td>\n      <td>trafficFlow</td>\n      <td>15.0</td>\n      <td>CH:0505</td>\n      <td>VD</td>\n      <td>2507348.0</td>\n      <td>1141026.0</td>\n      <td>1</td>\n      <td>-1</td>\n    </tr>\n  </tbody>\n</table>\n<p>6347 rows × 14 columns</p>\n</div>"
     },
     "execution_count": 96,
     "metadata": {},
     "output_type": "execute_result"
    }
   ],
   "source": [
    "df\n",
    "\n",
    "#sk: müsste auf einer Karte angeschaut werden"
   ],
   "metadata": {
    "collapsed": false
   }
  },
  {
   "cell_type": "code",
   "execution_count": 44,
   "outputs": [],
   "source": [],
   "metadata": {
    "collapsed": false
   }
  }
 ],
 "metadata": {
  "kernelspec": {
   "display_name": "Python 3",
   "language": "python",
   "name": "python3"
  },
  "language_info": {
   "codemirror_mode": {
    "name": "ipython",
    "version": 2
   },
   "file_extension": ".py",
   "mimetype": "text/x-python",
   "name": "python",
   "nbconvert_exporter": "python",
   "pygments_lexer": "ipython2",
   "version": "2.7.6"
  }
 },
 "nbformat": 4,
 "nbformat_minor": 0
}
